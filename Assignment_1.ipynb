{
  "nbformat": 4,
  "nbformat_minor": 0,
  "metadata": {
    "colab": {
      "provenance": [],
      "authorship_tag": "ABX9TyPOpZYguMvD9PO2DLgLeRxn",
      "include_colab_link": true
    },
    "kernelspec": {
      "name": "python3",
      "display_name": "Python 3"
    },
    "language_info": {
      "name": "python"
    }
  },
  "cells": [
    {
      "cell_type": "markdown",
      "metadata": {
        "id": "view-in-github",
        "colab_type": "text"
      },
      "source": [
        "<a href=\"https://colab.research.google.com/github/saafiyawaseem/class_1_assignment_py/blob/main/Assignment_1.ipynb\" target=\"_parent\"><img src=\"https://colab.research.google.com/assets/colab-badge.svg\" alt=\"Open In Colab\"/></a>"
      ]
    },
    {
      "cell_type": "code",
      "execution_count": null,
      "metadata": {
        "colab": {
          "base_uri": "https://localhost:8080/"
        },
        "id": "Awd_8U82vQCr",
        "outputId": "ea90ce4a-a660-4c1b-af3c-9a012751a932"
      },
      "outputs": [
        {
          "output_type": "stream",
          "name": "stdout",
          "text": [
            "Hello World\n"
          ]
        }
      ],
      "source": [
        "print(\"Hello World\")"
      ]
    },
    {
      "cell_type": "code",
      "source": [
        "print(\"Today's My First Class of Pythone\")"
      ],
      "metadata": {
        "colab": {
          "base_uri": "https://localhost:8080/"
        },
        "id": "9JIfoCJUzfQN",
        "outputId": "2dc5bd4e-e1c9-4bfd-f4bc-8af8b97d523d"
      },
      "execution_count": null,
      "outputs": [
        {
          "output_type": "stream",
          "name": "stdout",
          "text": [
            "Today's My First Class of Python\n"
          ]
        }
      ]
    },
    {
      "cell_type": "markdown",
      "source": [
        "#Part_1:1"
      ],
      "metadata": {
        "id": "CWhTk-9yMKa8"
      }
    },
    {
      "cell_type": "markdown",
      "source": [
        "# Single qoutes"
      ],
      "metadata": {
        "id": "oZYZ5deVwYue"
      }
    },
    {
      "cell_type": "code",
      "source": [
        "userName = 'Ahmed'\n",
        "print(userName)"
      ],
      "metadata": {
        "id": "kq33WM7EwzU1",
        "colab": {
          "base_uri": "https://localhost:8080/"
        },
        "outputId": "5a2c9d65-af2a-4e2c-dd4f-b0286da37bc4"
      },
      "execution_count": null,
      "outputs": [
        {
          "output_type": "stream",
          "name": "stdout",
          "text": [
            "Ahmed\n"
          ]
        }
      ]
    },
    {
      "cell_type": "code",
      "source": [
        "good_morning ='Hello'\n",
        "print(good_morning)"
      ],
      "metadata": {
        "colab": {
          "base_uri": "https://localhost:8080/"
        },
        "id": "FrUl5Jt4yKN9",
        "outputId": "580856cd-74c4-4d6d-dbef-c69240c4db4f"
      },
      "execution_count": null,
      "outputs": [
        {
          "output_type": "stream",
          "name": "stdout",
          "text": [
            "Hello\n"
          ]
        }
      ]
    },
    {
      "cell_type": "markdown",
      "source": [
        "#double qoutes"
      ],
      "metadata": {
        "id": "4VuXOUD5y3_H"
      }
    },
    {
      "cell_type": "code",
      "source": [
        "favourite_food = \"Singapooriyan Rice\"\n",
        "print(favourite_food)"
      ],
      "metadata": {
        "colab": {
          "base_uri": "https://localhost:8080/"
        },
        "id": "HuvDE_uU1fqC",
        "outputId": "7602988d-0407-4a20-f128-1f2f9dfea12a"
      },
      "execution_count": null,
      "outputs": [
        {
          "output_type": "stream",
          "name": "stdout",
          "text": [
            "Singapooriyan Rice\n"
          ]
        }
      ]
    },
    {
      "cell_type": "markdown",
      "source": [
        "#Triple qoutes"
      ],
      "metadata": {
        "id": "emsJJ0M_4PNP"
      }
    },
    {
      "cell_type": "code",
      "source": [
        "invitation = \" Hi! Amina\"\n",
        "message = \"\"\"\n",
        " You are invited to Iftar Party\n",
        " you have to come on time\n",
        "\"\"\"\n",
        "print(invitation)\n",
        "print(message)"
      ],
      "metadata": {
        "colab": {
          "base_uri": "https://localhost:8080/"
        },
        "id": "HODzKhUt4phW",
        "outputId": "5cd1a0a7-e119-46ec-b7cd-b7e8c2836853"
      },
      "execution_count": null,
      "outputs": [
        {
          "output_type": "stream",
          "name": "stdout",
          "text": [
            " Hi! Amina\n",
            "\n",
            " You are invited to Iftar Party \n",
            " you have to come on time\n",
            "\n"
          ]
        }
      ]
    },
    {
      "cell_type": "code",
      "source": [
        "tripple_qoutes = \"\"\"\n",
        "Your assignment should be submit on time\n",
        "& you have to worked hard to achive for your success \"\"\"\n",
        "print(tripple_qoutes)"
      ],
      "metadata": {
        "colab": {
          "base_uri": "https://localhost:8080/"
        },
        "id": "SSiek7LpDS_I",
        "outputId": "4a9d3a28-2d75-4723-c3ec-f30e4114455d"
      },
      "execution_count": null,
      "outputs": [
        {
          "output_type": "stream",
          "name": "stdout",
          "text": [
            "\n",
            "Your assignment should be submit on time\n",
            "& you have to worked hard to achive for your success \n"
          ]
        }
      ]
    },
    {
      "cell_type": "markdown",
      "source": [
        "# 2:**Advantages of three types of code**\n",
        "# **Single qoute**\n"
      ],
      "metadata": {
        "id": "A1j_At0d9KDd"
      }
    },
    {
      "cell_type": "code",
      "source": [
        "single_qoute = 'Simple and clean for short string'\n",
        "print(single_qoute)"
      ],
      "metadata": {
        "colab": {
          "base_uri": "https://localhost:8080/"
        },
        "id": "X6vqvjuQ-5et",
        "outputId": "bc8e8e0e-9bea-47f4-ac55-41601f3c14ec"
      },
      "execution_count": null,
      "outputs": [
        {
          "output_type": "stream",
          "name": "stdout",
          "text": [
            "Simple and clean for short string\n"
          ]
        }
      ]
    },
    {
      "cell_type": "markdown",
      "source": [
        "#**Double qoutes**"
      ],
      "metadata": {
        "id": "1mQUnJQV_VcV"
      }
    },
    {
      "cell_type": "code",
      "source": [
        "double_qoutes = \"Usefull when a string does not contain apostrophes \"\n",
        "print(double_qoutes)"
      ],
      "metadata": {
        "colab": {
          "base_uri": "https://localhost:8080/"
        },
        "id": "VgR0xzSL_e5k",
        "outputId": "88cece74-47eb-4f34-e53f-cc7cefc46462"
      },
      "execution_count": null,
      "outputs": [
        {
          "output_type": "stream",
          "name": "stdout",
          "text": [
            "Usefull when a string does not contain apostrophes \n"
          ]
        }
      ]
    },
    {
      "cell_type": "markdown",
      "source": [
        "## **Tripple qoutes**"
      ],
      "metadata": {
        "id": "3RF7JxN8A3zy"
      }
    },
    {
      "cell_type": "code",
      "source": [
        "tripple_qoutes = \"\"\"\n",
        "Used for multi-line strings and docstrings.\"\"\"\n",
        "print(tripple_qoutes)"
      ],
      "metadata": {
        "colab": {
          "base_uri": "https://localhost:8080/"
        },
        "id": "duzu_Ms9BB3I",
        "outputId": "4664348b-b63a-431d-f6db-6e7cd85efc66"
      },
      "execution_count": null,
      "outputs": [
        {
          "output_type": "stream",
          "name": "stdout",
          "text": [
            "\n",
            "Used for multi-line strings and docstrings.\n"
          ]
        }
      ]
    },
    {
      "cell_type": "markdown",
      "source": [
        "# Part:1 No:3"
      ],
      "metadata": {
        "id": "obbgv0P_DofR"
      }
    },
    {
      "cell_type": "code",
      "source": [
        "email = \"Congratulation you won the Lottery\"\n",
        "print(f\"Ali recieved , {email}\")\n",
        "shopping = \"sara purchased many gift items for her friends\"\n",
        "print(f'Mom said, {shopping}')\n"
      ],
      "metadata": {
        "colab": {
          "base_uri": "https://localhost:8080/"
        },
        "id": "W_kOiIrbFDsr",
        "outputId": "da01d536-340a-4018-c623-0dccfa4ae439"
      },
      "execution_count": null,
      "outputs": [
        {
          "output_type": "stream",
          "name": "stdout",
          "text": [
            "Ali recieved , Congratulation you won the Lottery\n",
            "Mom said, sara purchased many gift items for her friends\n"
          ]
        }
      ]
    },
    {
      "cell_type": "markdown",
      "source": [
        "#:4"
      ],
      "metadata": {
        "id": "FzrKTo5CLk8O"
      }
    },
    {
      "cell_type": "code",
      "source": [
        "favourite_hobby = \"\"\"My hobby is coding\n",
        "I like to write code in python and typescript\n",
        "and specially if/else conditions, switchCase,functions,\n",
        "list,objects in these language\"\"\"\n",
        "print(favourite_hobby)"
      ],
      "metadata": {
        "colab": {
          "base_uri": "https://localhost:8080/"
        },
        "id": "YcgLA8vFJlRt",
        "outputId": "7a6635ef-4a8f-47d3-f18f-771221f0ad2a"
      },
      "execution_count": null,
      "outputs": [
        {
          "output_type": "stream",
          "name": "stdout",
          "text": [
            "My hobby is coding\n",
            "I like to write code in python and typescript\n",
            "and specially if/else conditions, switchCase,functions,\n",
            "list,objects in these language\n"
          ]
        }
      ]
    },
    {
      "cell_type": "code",
      "source": [
        "first_name = \"Ahmed\"\n",
        "last_name =\"raza\"\n",
        "full_name = f\"{first_name} {last_name}\"\n",
        "print(full_name)"
      ],
      "metadata": {
        "colab": {
          "base_uri": "https://localhost:8080/"
        },
        "id": "4RRR0dDxo5VI",
        "outputId": "5e565046-b4f2-43e6-ae55-229cebcdbf56"
      },
      "execution_count": null,
      "outputs": [
        {
          "output_type": "stream",
          "name": "stdout",
          "text": [
            "Ahmed raza\n"
          ]
        }
      ]
    },
    {
      "cell_type": "markdown",
      "source": [
        "#Part:*2* **string Methods**"
      ],
      "metadata": {
        "id": "dg1bx0BJMfHR"
      }
    },
    {
      "cell_type": "code",
      "source": [
        "full_name = \"Ahmed raza\"\n",
        "print(full_name.upper())\n",
        "print(full_name.lower())\n",
        "print(full_name.title())"
      ],
      "metadata": {
        "colab": {
          "base_uri": "https://localhost:8080/"
        },
        "id": "5xOTt1nLNDFb",
        "outputId": "ccb8cda7-8359-4169-fd59-c68d40d9eef0"
      },
      "execution_count": null,
      "outputs": [
        {
          "output_type": "stream",
          "name": "stdout",
          "text": [
            "AHMED RAZA\n",
            "ahmed raza\n",
            "Ahmed Raza\n"
          ]
        }
      ]
    },
    {
      "cell_type": "markdown",
      "source": [
        "#Messy Text"
      ],
      "metadata": {
        "id": "B9_5gf9qOHlU"
      }
    },
    {
      "cell_type": "code",
      "source": [
        "messy_text = \"python programming is fun\"\n",
        "print(messy_text.strip())\n"
      ],
      "metadata": {
        "colab": {
          "base_uri": "https://localhost:8080/"
        },
        "id": "4f97jDs1MmV4",
        "outputId": "3dc22e94-0e66-4da2-8837-e036632a5926"
      },
      "execution_count": null,
      "outputs": [
        {
          "output_type": "stream",
          "name": "stdout",
          "text": [
            "pythone programming is fun\n"
          ]
        }
      ]
    },
    {
      "cell_type": "markdown",
      "source": [
        "#**Replacement**"
      ],
      "metadata": {
        "id": "R-IdWLP7rvyv"
      }
    },
    {
      "cell_type": "code",
      "source": [
        "messy_text =\"python programming is fun\"\n",
        "\n",
        "print(messy_text.replace(\"fun\",\"amazing\" ,1))"
      ],
      "metadata": {
        "colab": {
          "base_uri": "https://localhost:8080/"
        },
        "id": "OqACgXXgr90o",
        "outputId": "e0a48b93-c189-45dd-da07-0df061de7e3f"
      },
      "execution_count": null,
      "outputs": [
        {
          "output_type": "stream",
          "name": "stdout",
          "text": [
            "pythone programming is amazing\n"
          ]
        }
      ]
    },
    {
      "cell_type": "markdown",
      "source": [
        "#counting"
      ],
      "metadata": {
        "id": "3H7uq1gfvMQ7"
      }
    },
    {
      "cell_type": "code",
      "source": [
        "print(messy_text.count(\"i\"))\n",
        "print(messy_text.count(\"n\"))"
      ],
      "metadata": {
        "colab": {
          "base_uri": "https://localhost:8080/"
        },
        "id": "v7U7SGKbvSkr",
        "outputId": "5799c9a3-2b90-4317-f649-183a4be5ca6f"
      },
      "execution_count": null,
      "outputs": [
        {
          "output_type": "stream",
          "name": "stdout",
          "text": [
            "2\n",
            "3\n"
          ]
        }
      ]
    },
    {
      "cell_type": "code",
      "source": [
        "sentence = \"The quick brown fox jumps over the lazy dog\"\n",
        "print(sentence.split())\n",
        "words_list = sentence.split()\n",
        "\n",
        "# Joining the words back together with dashes\n",
        "dash_sentence = \"-\".join(words_list)\n",
        "print(dash_sentence)\n",
        "print(sentence.startswith(\"The\"))\n",
        "print(sentence.find(\"fox\"))\n"
      ],
      "metadata": {
        "colab": {
          "base_uri": "https://localhost:8080/"
        },
        "id": "3LkCiTHxwoXi",
        "outputId": "99895528-c2d5-4355-92d8-8ade60ec1988"
      },
      "execution_count": null,
      "outputs": [
        {
          "output_type": "stream",
          "name": "stdout",
          "text": [
            "['The', 'quick', 'brown', 'fox', 'jumps', 'over', 'the', 'lazy', 'dog']\n",
            "The-quick-brown-fox-jumps-over-the-lazy-dog\n",
            "True\n",
            "16\n"
          ]
        }
      ]
    },
    {
      "cell_type": "markdown",
      "source": [
        "#**dash**"
      ],
      "metadata": {
        "id": "xA1BN2FfRYMJ"
      }
    },
    {
      "cell_type": "code",
      "source": [
        "sentence = \"The quick brown fox jumps over the lazy dog\"\n",
        "words_list = sentence.split()\n",
        "dash_sentence ='-'.join(words_list)\n",
        "print(dash_sentence)"
      ],
      "metadata": {
        "colab": {
          "base_uri": "https://localhost:8080/"
        },
        "id": "wgQSwBdURgQj",
        "outputId": "24edd66e-97d2-490d-89e2-db7805406d35"
      },
      "execution_count": null,
      "outputs": [
        {
          "output_type": "stream",
          "name": "stdout",
          "text": [
            "The-quick-brown-fox-jumps-over-the-lazy-dog\n"
          ]
        }
      ]
    },
    {
      "cell_type": "markdown",
      "source": [
        "#Find\n"
      ],
      "metadata": {
        "id": "zx63Ts6PTQJI"
      }
    },
    {
      "cell_type": "code",
      "source": [
        "sentence = \"The quick brown fox jumps over the lazy dog\"\n",
        "print(sentence.find(\"fox\"))"
      ],
      "metadata": {
        "colab": {
          "base_uri": "https://localhost:8080/"
        },
        "id": "AQndoB3zTUsE",
        "outputId": "44abdebc-a735-4daa-f7a6-182542d6e9c2"
      },
      "execution_count": null,
      "outputs": [
        {
          "output_type": "stream",
          "name": "stdout",
          "text": [
            "16\n"
          ]
        }
      ]
    },
    {
      "cell_type": "markdown",
      "source": [
        "# **Part:3** F/ string"
      ],
      "metadata": {
        "id": "fk3Y504KTlU9"
      }
    },
    {
      "cell_type": "code",
      "source": [
        "my_name = \"saafiya\"\n",
        "age = 35\n",
        "favourit_language = \"python\"\n",
        "print(\"My name\",my_name)\n",
        "print(\"Age\",age)\n",
        "print(\"My favourit programming language \", favourit_language)"
      ],
      "metadata": {
        "colab": {
          "base_uri": "https://localhost:8080/"
        },
        "id": "CGgLjNZ7UHGz",
        "outputId": "e36f7ac0-399b-4712-cea3-b9e1796c989e"
      },
      "execution_count": null,
      "outputs": [
        {
          "output_type": "stream",
          "name": "stdout",
          "text": [
            "My name saafiya\n",
            "Age 35\n",
            "My favourit programming language  python\n"
          ]
        }
      ]
    },
    {
      "cell_type": "code",
      "source": [
        "print(f\"My name is {my_name} & i am {age} years old\")\n",
        "print(f\"I enjoy programing in {favourit_language} it's my favourit!\")\n",
        "print(f\"In 5 years i will be {age+5} years old\")"
      ],
      "metadata": {
        "colab": {
          "base_uri": "https://localhost:8080/"
        },
        "id": "hcd-k-HWYERc",
        "outputId": "98c3a5e8-6a1b-464b-8771-2a87e317a278"
      },
      "execution_count": null,
      "outputs": [
        {
          "output_type": "stream",
          "name": "stdout",
          "text": [
            "My name is saafiya & i am 35 years old\n",
            "I enjoy programing in python it's my favourit!\n",
            "In 5 years i will be 40 years old\n"
          ]
        }
      ]
    },
    {
      "cell_type": "markdown",
      "source": [
        "#Part:4 = **combining Method**with f string"
      ],
      "metadata": {
        "id": "Vfp5Rp5CZ-60"
      }
    },
    {
      "cell_type": "code",
      "source": [
        "first_name = input(\"First name:\")\n",
        "last_name = input(\"Last name:\")\n",
        "dob = input(\"date of birth\")\n",
        "print(first_name)\n",
        "print(last_name)\n",
        "print(dob)"
      ],
      "metadata": {
        "colab": {
          "base_uri": "https://localhost:8080/"
        },
        "id": "5lYDYAafbO7u",
        "outputId": "816ee671-214b-4957-9e00-bdb6eccb34fc"
      },
      "execution_count": null,
      "outputs": [
        {
          "output_type": "stream",
          "name": "stdout",
          "text": [
            "First name:waseem\n",
            "Last name:raza\n",
            "date of birth2-jan-1989\n",
            "waseem\n",
            "raza\n",
            "2-jan-1989\n"
          ]
        }
      ]
    },
    {
      "cell_type": "code",
      "source": [
        "print(first_name.upper())\n",
        "print(last_name.upper())"
      ],
      "metadata": {
        "colab": {
          "base_uri": "https://localhost:8080/"
        },
        "id": "L73I3PT-dbwB",
        "outputId": "ec5476e3-4e2a-49ff-abcc-c68aa99286da"
      },
      "execution_count": null,
      "outputs": [
        {
          "output_type": "stream",
          "name": "stdout",
          "text": [
            "WASEEM\n",
            "RAZA\n"
          ]
        }
      ]
    },
    {
      "cell_type": "code",
      "source": [
        "userName = f\"{first_name} {last_name} {dob}\"\n",
        "profile_message = f\"{first_name,last_name} Age:{age} userName : {userName}\"\n",
        "print(profile_message)\n",
        "\n"
      ],
      "metadata": {
        "colab": {
          "base_uri": "https://localhost:8080/"
        },
        "id": "6Q70D2yrfrJo",
        "outputId": "892b07be-5f79-43cc-d501-b7ad5ed6b887"
      },
      "execution_count": null,
      "outputs": [
        {
          "output_type": "stream",
          "name": "stdout",
          "text": [
            "('waseem', 'raza') Age:35 userName : waseem raza 2-jan-1989\n"
          ]
        }
      ]
    }
  ]
}